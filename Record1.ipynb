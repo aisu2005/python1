
{
 "cells": [
  {
   "cell_type": "code",
   "execution_count": 8,
   "id": "b415528c-8c1b-4fa3-a564-0be7c7d86a39",
   "metadata": {},
   "outputs": [
    {
     "name": "stdin",
     "output_type": "stream",
     "text": [
      "Enter the integer: 3\n"
     ]
    },
    {
     "name": "stdout",
     "output_type": "stream",
     "text": [
      "3 + 33 + 333 = 369\n"
     ]
    }
   ],
   "source": [
    "#compute integer n+nn+nnn\n",
    "n=int(input(\"Enter the integer:\"))\n",
    "n=n\n",
    "nn=n*10+n\n",
    "nnn=n*100+nn\n",
    "result=n+nn+nnn\n",
    "print(n,\"+\",nn,\"+\",nnn,\"=\",result)"
   ]
  },
  {
   "cell_type": "code",
   "execution_count": 9,
   "id": "2ae1a2b0-e7bb-4948-9d2f-bb67aceb3240",
   "metadata": {},
   "outputs": [
    {
     "name": "stdin",
     "output_type": "stream",
     "text": [
      "Enter the radius of the circle: 4\n"
     ]
    },
    {
     "name": "stdout",
     "output_type": "stream",
     "text": [
      "Area of the circle is: 50.24\n"
     ]
    }
   ],
   "source": [
    "r=float(input(\"Enter the radius of the circle:\"))\n",
    "area=3.14*r*r\n",
    "print(\"Area of the circle is:\",area)"
   ]
  },
  {
   "cell_type": "code",
   "execution_count": null,
   "id": "ba6d531b-7ce4-46d1-8672-982d6bb7fc30",
   "metadata": {},
   "outputs": [],
   "source": []
  }
 ],
 "metadata": {
  "kernelspec": {
   "display_name": "Python 3 (ipykernel)",
   "language": "python",
   "name": "python3"
  },
  "language_info": {
   "codemirror_mode": {
    "name": "ipython",
    "version": 3
   },
   "file_extension": ".py",
   "mimetype": "text/x-python",
   "name": "python",
   "nbconvert_exporter": "python",
   "pygments_lexer": "ipython3",
   "version": "3.11.7"
  }
 },
 "nbformat": 4,
 "nbformat_minor": 5
}
