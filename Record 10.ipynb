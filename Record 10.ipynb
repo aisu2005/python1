{
 "cells": [
  {
   "cell_type": "code",
   "execution_count": 5,
   "id": "a4f179df-8bc0-4e91-bd15-4760ded957f5",
   "metadata": {},
   "outputs": [
    {
     "name": "stdin",
     "output_type": "stream",
     "text": [
      "Enter first list of numbers separated by comma: 4,2,3,1\n",
      "Enter second list of numbers separated by comma: 4,3,3\n"
     ]
    },
    {
     "name": "stdout",
     "output_type": "stream",
     "text": [
      "List 1 is:list [4, 2, 3, 1]\n",
      "List 2 is:list [4, 3, 3]\n",
      "Lists are of different size\n",
      "Both list has same sum value\n",
      "Common values in both lists are: {3, 4}\n"
     ]
    }
   ],
   "source": [
    "#check 2 lists a)same length b)list sums to same value c)value occur in both\n",
    "list1=list(map(int,input(\"Enter first list of numbers separated by comma:\").split(\",\")))\n",
    "list2=list(map(int,input(\"Enter second list of numbers separated by comma:\").split(\",\")))\n",
    "print(\"List 1 is:list\",list1)\n",
    "print(\"List 2 is:list\",list2)\n",
    "#a)\n",
    "if len(list1)==(list2):\n",
    "    print(\"Both list are of same length\")\n",
    "else:\n",
    "    print(\"Lists are of different size\")\n",
    "#b)\n",
    "if sum(list1)==sum(list2):\n",
    "    print(\"Both list has same sum value\")\n",
    "else:\n",
    "    print(\"Both list has different sum values\")\n",
    "#c)\n",
    "common=set(list1) & set(list2)\n",
    "if common:\n",
    "    print(\"Common values in both lists are:\",common)\n",
    "else:\n",
    "    print(\"No common values are found in both lists.\")\n"
   ]
  },
  {
   "cell_type": "code",
   "execution_count": 16,
   "id": "15486735-2cc5-43c6-856d-11cdaffe7a0f",
   "metadata": {},
   "outputs": [
    {
     "name": "stdin",
     "output_type": "stream",
     "text": [
      "Enter a string: walk\n"
     ]
    },
    {
     "name": "stdout",
     "output_type": "stream",
     "text": [
      "The converted string is: walking\n"
     ]
    }
   ],
   "source": [
    "#Add ing in end,if already exit then add ly\n",
    "word=str(input(\"Enter a string:\"))\n",
    "if word.endswith(\"ing\"):\n",
    "    print(\"The converted string is:\",word +\"ly\")\n",
    "else:\n",
    "    print(\"The converted string is:\",word +\"ing\")\n"
   ]
  },
  {
   "cell_type": "code",
   "execution_count": null,
   "id": "a8d50a83-c9d3-4956-92b9-7b0366621611",
   "metadata": {},
   "outputs": [],
   "source": []
  }
 ],
 "metadata": {
  "kernelspec": {
   "display_name": "Python 3 (ipykernel)",
   "language": "python",
   "name": "python3"
  },
  "language_info": {
   "codemirror_mode": {
    "name": "ipython",
    "version": 3
   },
   "file_extension": ".py",
   "mimetype": "text/x-python",
   "name": "python",
   "nbconvert_exporter": "python",
   "pygments_lexer": "ipython3",
   "version": "3.11.7"
  }
 },
 "nbformat": 4,
 "nbformat_minor": 5
}
