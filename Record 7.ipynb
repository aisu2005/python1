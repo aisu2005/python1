{
 "cells": [
  {
   "cell_type": "code",
   "execution_count": 1,
   "id": "b2d77d11-e18b-4edb-aa8f-3ebcf709f459",
   "metadata": {},
   "outputs": [
    {
     "name": "stdout",
     "output_type": "stream",
     "text": [
      "list is: [2, 4, 6, 8, 10, 12, 14, 16, 18, 20, 22, 24]\n",
      "Sum is: 156\n"
     ]
    }
   ],
   "source": [
    "#even numbers and sum\n",
    "r1=range(2,26,2)\n",
    "print(\"list is:\",list(r1))\n",
    "total=sum(list(r1))\n",
    "print(\"Sum is:\",total)"
   ]
  },
  {
   "cell_type": "code",
   "execution_count": 4,
   "id": "85410780-10a4-41e3-a447-71ee6388b0e8",
   "metadata": {},
   "outputs": [
    {
     "name": "stdin",
     "output_type": "stream",
     "text": [
      "enter a range= 6\n"
     ]
    },
    {
     "name": "stdout",
     "output_type": "stream",
     "text": [
      "the numbers in reverse is (6, 5, 4, 3, 2, 1)\n",
      "The sum of the reversed numbers= 21\n"
     ]
    }
   ],
   "source": [
    "#print in reverse and calculate sum\n",
    "num=int(input(\"enter a range=\"))\n",
    "a=(tuple(range(num,0,-1)))\n",
    "print(\"the numbers in reverse is\",a)\n",
    "s=sum(a)\n",
    "print(\"The sum of the reversed numbers=\",s)\n"
   ]
  },
  {
   "cell_type": "code",
   "execution_count": null,
   "id": "ffd6f4d2-7392-4e2f-846b-c040f613513d",
   "metadata": {},
   "outputs": [],
   "source": []
  }
 ],
 "metadata": {
  "kernelspec": {
   "display_name": "Python 3 (ipykernel)",
   "language": "python",
   "name": "python3"
  },
  "language_info": {
   "codemirror_mode": {
    "name": "ipython",
    "version": 3
   },
   "file_extension": ".py",
   "mimetype": "text/x-python",
   "name": "python",
   "nbconvert_exporter": "python",
   "pygments_lexer": "ipython3",
   "version": "3.11.7"
  }
 },
 "nbformat": 4,
 "nbformat_minor": 5
}
