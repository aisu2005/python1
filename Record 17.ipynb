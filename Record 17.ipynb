{
 "cells": [
  {
   "cell_type": "code",
   "execution_count": 10,
   "id": "d3fc5373-0fe1-4cd6-8e64-86714387d7bd",
   "metadata": {},
   "outputs": [
    {
     "name": "stdin",
     "output_type": "stream",
     "text": [
      "Enter publisher name: dc books\n",
      "Enter the book title: wings of fire\n",
      "Enter author's name: APJ Abdul kalam\n",
      "Enter the price: 300\n",
      "Enter the number of pages: 250\n"
     ]
    },
    {
     "name": "stdout",
     "output_type": "stream",
     "text": [
      "\n",
      "\n",
      "Publisher name: dc books\n",
      "book title: wings of fire\n",
      "author name: APJ Abdul kalam\n",
      "Book Price: 300\n",
      "Number of pages: 250\n"
     ]
    }
   ],
   "source": [
    "class publisher:\n",
    "    def __init__(self,name):\n",
    "        self.name=name\n",
    "        \n",
    "    def display(self):\n",
    "        print(\"Publisher name:\",self.name)\n",
    "        \n",
    "class book(publisher):\n",
    "    def __init__(self,name,title,author):\n",
    "        super().__init__(name)\n",
    "        self.title=title\n",
    "        self.author=author\n",
    "    def display(self):\n",
    "        super().display()\n",
    "        print(\"book title:\",self.title)\n",
    "        print(\"author name:\",self.author)\n",
    "\n",
    "class python(book):\n",
    "    def __init__(self,name,title,author,price,pages_no):\n",
    "        super().__init__(name, title, author)\n",
    "        self.price=price\n",
    "        self.pages_no=pages_no\n",
    "        \n",
    "    def display(self):\n",
    "        super().display()\n",
    "        print(\"Book Price:\",self.price)\n",
    "        print(\"Number of pages:\",self.pages_no)\n",
    "\n",
    "name=input(\"Enter publisher name:\")\n",
    "title=input(\"Enter the book title:\")\n",
    "author=input(\"Enter author's name:\")\n",
    "price=input(\"Enter the price:\")\n",
    "pages_no=int(input(\"Enter the number of pages:\"))\n",
    "\n",
    "print(\"\\n\")\n",
    "book=python(name,title,author,price,pages_no)\n",
    "book.display()\n",
    "\n"
   ]
  },
  {
   "cell_type": "code",
   "execution_count": null,
   "id": "92509da1-e55a-4052-b8ae-bb15185a063a",
   "metadata": {},
   "outputs": [],
   "source": []
  }
 ],
 "metadata": {
  "kernelspec": {
   "display_name": "Python 3 (ipykernel)",
   "language": "python",
   "name": "python3"
  },
  "language_info": {
   "codemirror_mode": {
    "name": "ipython",
    "version": 3
   },
   "file_extension": ".py",
   "mimetype": "text/x-python",
   "name": "python",
   "nbconvert_exporter": "python",
   "pygments_lexer": "ipython3",
   "version": "3.11.7"
  }
 },
 "nbformat": 4,
 "nbformat_minor": 5
}
