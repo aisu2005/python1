{
 "cells": [
  {
   "cell_type": "code",
   "execution_count": 4,
   "id": "0268e5c3-30d6-4031-8c74-84e7f594ab64",
   "metadata": {},
   "outputs": [
    {
     "name": "stdin",
     "output_type": "stream",
     "text": [
      "Enter the celsius value: 24\n"
     ]
    },
    {
     "name": "stdout",
     "output_type": "stream",
     "text": [
      "The Fahrenheit value is : 75.2\n"
     ]
    }
   ],
   "source": [
    "#celsius to fahrenheit\n",
    "c=float(input(\"Enter the celsius value:\"))\n",
    "f=c*9/5+32\n",
    "print(\"The Fahrenheit value is :\",f)"
   ]
  },
  {
   "cell_type": "code",
   "execution_count": 2,
   "id": "4ff765a8-3578-4697-9a19-db4f978e7440",
   "metadata": {},
   "outputs": [
    {
     "name": "stdin",
     "output_type": "stream",
     "text": [
      "Enter the kilometer: 33\n"
     ]
    },
    {
     "name": "stdout",
     "output_type": "stream",
     "text": [
      "Converted mile value is: 20.51\n"
     ]
    }
   ],
   "source": [
    "#kilometer to miles\n",
    "k=float(input(\"Enter the kilometer:\"))\n",
    "m=k*0.62137\n",
    "print(\"Converted mile value is:\",round(m,2))"
   ]
  },
  {
   "cell_type": "code",
   "execution_count": null,
   "id": "227a71a3-60d8-4c49-90d7-73bdfe9ab509",
   "metadata": {},
   "outputs": [],
   "source": []
  }
 ],
 "metadata": {
  "kernelspec": {
   "display_name": "Python 3 (ipykernel)",
   "language": "python",
   "name": "python3"
  },
  "language_info": {
   "codemirror_mode": {
    "name": "ipython",
    "version": 3
   },
   "file_extension": ".py",
   "mimetype": "text/x-python",
   "name": "python",
   "nbconvert_exporter": "python",
   "pygments_lexer": "ipython3",
   "version": "3.11.7"
  }
 },
 "nbformat": 4,
 "nbformat_minor": 5
}
