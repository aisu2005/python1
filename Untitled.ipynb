
{
 "cells": [
  {
   "cell_type": "code",
   "execution_count": 1,
   "id": "cd1dbdd6-ae1f-42a7-8356-8bed939292fc",
   "metadata": {},
   "outputs": [
    {
     "name": "stdout",
     "output_type": "stream",
     "text": [
      "good morning\n"
     ]
    }
   ],
   "source": [
    "print(\"good morning\")"
   ]
  },
  {
   "cell_type": "code",
   "execution_count": 5,
   "id": "218f2788-f55f-4dc6-87a5-518abbf1ad14",
   "metadata": {},
   "outputs": [
    {
     "name": "stdout",
     "output_type": "stream",
     "text": [
      "Address-kovoor\n",
      "medical college(po)\n",
      "calicut\n"
     ]
    }
   ],
   "source": [
    "print(\"Address-kovoor\\nmedical college(po)\\ncalicut\")"
   ]
  },
  {
   "cell_type": "code",
   "execution_count": 11,
   "id": "295569c1-a416-412a-871d-673e0e386d2e",
   "metadata": {},
   "outputs": [
    {
     "name": "stdout",
     "output_type": "stream",
     "text": [
      "2.5\n"
     ]
    }
   ],
   "source": [
    "print(5/2)"
   ]
  },
  {
   "cell_type": "code",
   "execution_count": 8,
   "id": "db46d030-5992-4223-8d35-5a258a51dc64",
   "metadata": {},
   "outputs": [
    {
     "name": "stdout",
     "output_type": "stream",
     "text": [
      "8\n"
     ]
    }
   ],
   "source": [
    "print(2*2*2)"
   ]
  },
  {
   "cell_type": "code",
   "execution_count": 9,
   "id": "b0c1aa5d-a9fc-41f3-8082-a6c576c35666",
   "metadata": {},
   "outputs": [
    {
     "name": "stdout",
     "output_type": "stream",
     "text": [
      "8\n"
     ]
    }
   ],
   "source": [
    "print(2**3)"
   ]
  },
  {
   "cell_type": "code",
   "execution_count": 12,
   "id": "62494714-8e48-4050-8c24-26202b3fbf1b",
   "metadata": {},
   "outputs": [
    {
     "name": "stdout",
     "output_type": "stream",
     "text": [
      "2\n"
     ]
    }
   ],
   "source": [
    "print(5//2)"
   ]
  },
  {
   "cell_type": "code",
   "execution_count": 13,
   "id": "9974cd9f-736d-41c9-9f92-ba7512618f7c",
   "metadata": {},
   "outputs": [
    {
     "name": "stdout",
     "output_type": "stream",
     "text": [
      "MCA student's\n"
     ]
    }
   ],
   "source": [
    "print(\"MCA student's\")"
   ]
  },
  {
   "cell_type": "code",
   "execution_count": 18,
   "id": "df90dcc6-1493-401f-b965-ab473e7594cb",
   "metadata": {},
   "outputs": [
    {
     "name": "stdout",
     "output_type": "stream",
     "text": [
      "\"MCA students\"\n"
     ]
    }
   ],
   "source": [
    "print('\"MCA students\"')"
   ]
  },
  {
   "cell_type": "code",
   "execution_count": 25,
   "id": "7d8ee787-c847-4a14-957a-9bf71453b206",
   "metadata": {},
   "outputs": [
    {
     "name": "stdout",
     "output_type": "stream",
     "text": [
      "Name= jun\n"
     ]
    }
   ],
   "source": [
    "n=\"arjun\"\n",
    "print(\"Name=\",n[2:5])"
   ]
  },
  {
   "cell_type": "code",
   "execution_count": 27,
   "id": "5540541e-ec81-41b1-a98e-a92f678019e9",
   "metadata": {},
   "outputs": [
    {
     "name": "stdout",
     "output_type": "stream",
     "text": [
      "Name= arj\n"
     ]
    }
   ],
   "source": [
    "n=\"arjun\"\n",
    "print(\"Name=\",n[:3])"
   ]
  },
  {
   "cell_type": "code",
   "execution_count": null,
   "id": "21a1cf56-37a4-440a-9558-075a42547c0c",
   "metadata": {},
   "outputs": [],
   "source": []
  }
 ],
 "metadata": {
  "kernelspec": {
   "display_name": "Python 3 (ipykernel)",
   "language": "python",
   "name": "python3"
  },
  "language_info": {
   "codemirror_mode": {
    "name": "ipython",
    "version": 3
   },
   "file_extension": ".py",
   "mimetype": "text/x-python",
   "name": "python",
   "nbconvert_exporter": "python",
   "pygments_lexer": "ipython3",
   "version": "3.11.7"
  }
 },
 "nbformat": 4,
 "nbformat_minor": 5
}
