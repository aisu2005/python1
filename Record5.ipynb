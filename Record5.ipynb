{
 "cells": [
  {
   "cell_type": "code",
   "execution_count": 5,
   "id": "97f47b5b-2d2d-4aa5-bd23-cdc21d375f4a",
   "metadata": {},
   "outputs": [
    {
     "name": "stdin",
     "output_type": "stream",
     "text": [
      "Enter few colors separated by comma: green,blue,pink,red\n"
     ]
    },
    {
     "name": "stdout",
     "output_type": "stream",
     "text": [
      "['green', 'blue', 'pink', 'red']\n",
      "The first color is: green\n",
      "The last color is: red\n"
     ]
    }
   ],
   "source": [
    "#first and last colours\n",
    "color=input(\"Enter few colors separated by comma:\")\n",
    "c=color.split(\",\")\n",
    "print(c)\n",
    "print(\"The first color is:\",c[0])\n",
    "print(\"The last color is:\",c[-1])"
   ]
  },
  {
   "cell_type": "code",
   "execution_count": 3,
   "id": "b0fbca4a-ecad-4633-89ee-2e5ced72fe9a",
   "metadata": {},
   "outputs": [
    {
     "name": "stdin",
     "output_type": "stream",
     "text": [
      "Enter a filename: hello.html\n"
     ]
    },
    {
     "name": "stdout",
     "output_type": "stream",
     "text": [
      "Extension of this file is: html\n"
     ]
    }
   ],
   "source": [
    "#Accept a file name and print its extension\n",
    "file=input(\"Enter a filename:\")\n",
    "ext=file.split(\".\")[-1]\n",
    "print(\"Extension of this file is:\",ext)\n"
   ]
  },
  {
   "cell_type": "code",
   "execution_count": 8,
   "id": "e690a7a6-3eb7-4288-b005-172ce02c5ec4",
   "metadata": {},
   "outputs": [
    {
     "name": "stdin",
     "output_type": "stream",
     "text": [
      "enter 5 numbers 1,2,3,4,5\n"
     ]
    },
    {
     "name": "stdout",
     "output_type": "stream",
     "text": [
      "list is: [1, 2, 3, 4, 5]\n",
      "sum is 15\n"
     ]
    }
   ],
   "source": [
    "#input comma separated no.s in list find its sum\n",
    "num=input(\"enter 5 numbers\")\n",
    "new=list(map(int, num.split(',')))\n",
    "total=sum(new)\n",
    "print(\"list is:\",new)\n",
    "print(\"sum is\",total)"
   ]
  },
  {
   "cell_type": "code",
   "execution_count": null,
   "id": "76783c92-bbd5-487f-85d0-861b1c1a4161",
   "metadata": {},
   "outputs": [],
   "source": []
  }
 ],
 "metadata": {
  "kernelspec": {
   "display_name": "Python 3 (ipykernel)",
   "language": "python",
   "name": "python3"
  },
  "language_info": {
   "codemirror_mode": {
    "name": "ipython",
    "version": 3
   },
   "file_extension": ".py",
   "mimetype": "text/x-python",
   "name": "python",
   "nbconvert_exporter": "python",
   "pygments_lexer": "ipython3",
   "version": "3.11.7"
  }
 },
 "nbformat": 4,
 "nbformat_minor": 5
}
