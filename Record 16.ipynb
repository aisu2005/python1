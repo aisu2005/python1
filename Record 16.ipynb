{
 "cells": [
  {
   "cell_type": "code",
   "execution_count": 13,
   "id": "905a0017-9141-437d-87d2-8242eadfb6b3",
   "metadata": {},
   "outputs": [
    {
     "name": "stdin",
     "output_type": "stream",
     "text": [
      "Enter account number: 1234\n",
      "Enter the name: aisu\n",
      "Account type is: saving\n",
      "Enter the initial balance: 1000\n"
     ]
    },
    {
     "name": "stdout",
     "output_type": "stream",
     "text": [
      "1.Deposit\n",
      "2.Withdraw\n",
      "3.Display\n",
      "4.Exit\n"
     ]
    },
    {
     "name": "stdin",
     "output_type": "stream",
     "text": [
      "Enter your choice: 3\n"
     ]
    },
    {
     "name": "stdout",
     "output_type": "stream",
     "text": [
      "Account Number: 1234\n",
      "Name: aisu\n",
      "Account type: saving\n",
      "Balance: 1000.0\n",
      "1.Deposit\n",
      "2.Withdraw\n",
      "3.Display\n",
      "4.Exit\n"
     ]
    },
    {
     "name": "stdin",
     "output_type": "stream",
     "text": [
      "Enter your choice: 2\n",
      "Enter amount to withdraw: 2000\n"
     ]
    },
    {
     "name": "stdout",
     "output_type": "stream",
     "text": [
      "Balance= 1000.0\n",
      "Insufficient balance!\n",
      "1.Deposit\n",
      "2.Withdraw\n",
      "3.Display\n",
      "4.Exit\n"
     ]
    },
    {
     "name": "stdin",
     "output_type": "stream",
     "text": [
      "Enter your choice: 1\n",
      "Enter amount to deposit: 1000\n"
     ]
    },
    {
     "name": "stdout",
     "output_type": "stream",
     "text": [
      "Deposited amount: 1000\n",
      "updated balance: 2000.0\n",
      "1.Deposit\n",
      "2.Withdraw\n",
      "3.Display\n",
      "4.Exit\n"
     ]
    },
    {
     "name": "stdin",
     "output_type": "stream",
     "text": [
      "Enter your choice: 3\n"
     ]
    },
    {
     "name": "stdout",
     "output_type": "stream",
     "text": [
      "Account Number: 1234\n",
      "Name: aisu\n",
      "Account type: saving\n",
      "Balance: 2000.0\n",
      "1.Deposit\n",
      "2.Withdraw\n",
      "3.Display\n",
      "4.Exit\n"
     ]
    },
    {
     "name": "stdin",
     "output_type": "stream",
     "text": [
      "Enter your choice: 4\n"
     ]
    },
    {
     "name": "stdout",
     "output_type": "stream",
     "text": [
      "Thankyou!\n"
     ]
    }
   ],
   "source": [
    "class bank:\n",
    "    def __init__(self,acc_no,name,type,balance):\n",
    "        self.acc_no=acc_no\n",
    "        self.name=name\n",
    "        self.type=type\n",
    "        self.balance=balance\n",
    "    def deposit(self,amount):\n",
    "        self.balance=self.balance+amount\n",
    "        print(\"Deposited amount:\",amount)\n",
    "        print(\"updated balance:\",self.balance)\n",
    "    def withdraw(self,amount):\n",
    "        print(\"Balance=\",self.balance)\n",
    "        if amount > self.balance:\n",
    "            print(\"Insufficient balance!\")\n",
    "        else:\n",
    "            self.balance -= amount\n",
    "            print(\"Withdrawn amount:\", amount)\n",
    "            print(\"Updated balance:\", self.balance)\n",
    "\n",
    "    def display(self):\n",
    "        print(\"Account Number:\",self.acc_no)\n",
    "        print(\"Name:\",self.name)\n",
    "        print(\"Account type:\",self.type)\n",
    "        print(\"Balance:\",self.balance)\n",
    "\n",
    "acc_no=int(input(\"Enter account number:\"))\n",
    "name=input(\"Enter the name:\")\n",
    "type=input(\"Account type is:\")\n",
    "balance=float(input(\"Enter the initial balance:\"))\n",
    "\n",
    "\n",
    "account=bank(acc_no,name,type,balance)\n",
    "\n",
    "while True:\n",
    "    print(\"1.Deposit\")\n",
    "    print(\"2.Withdraw\")\n",
    "    print(\"3.Display\")\n",
    "    print(\"4.Exit\")\n",
    "    choice=int(input(\"Enter your choice:\"))\n",
    "    if choice==1:\n",
    "        amt=int(input(\"Enter amount to deposit:\"))\n",
    "        account.deposit(amt)\n",
    "    elif choice==2:\n",
    "        amt=int(input(\"Enter amount to withdraw:\"))\n",
    "        account.withdraw(amt)\n",
    "        \n",
    "    elif choice==3:\n",
    "        account.display()\n",
    "    elif choice==4:\n",
    "        print(\"Thankyou!\")\n",
    "        break\n",
    "    else:\n",
    "        print(\"Invalid choice.Try again!\")"
   ]
  },
  {
   "cell_type": "code",
   "execution_count": null,
   "id": "9adee8c6-4f28-4d7a-95f3-662e11c4e2a8",
   "metadata": {},
   "outputs": [],
   "source": []
  }
 ],
 "metadata": {
  "kernelspec": {
   "display_name": "Python 3 (ipykernel)",
   "language": "python",
   "name": "python3"
  },
  "language_info": {
   "codemirror_mode": {
    "name": "ipython",
    "version": 3
   },
   "file_extension": ".py",
   "mimetype": "text/x-python",
   "name": "python",
   "nbconvert_exporter": "python",
   "pygments_lexer": "ipython3",
   "version": "3.11.7"
  }
 },
 "nbformat": 4,
 "nbformat_minor": 5
}
