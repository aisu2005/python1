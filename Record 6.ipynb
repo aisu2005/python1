{
 "cells": [
  {
   "cell_type": "code",
   "execution_count": 2,
   "id": "358ae9b9-a01c-4e4e-b648-d654909f6327",
   "metadata": {},
   "outputs": [
    {
     "name": "stdin",
     "output_type": "stream",
     "text": [
      "Enter the numbers: 5,6,7,8,9,0,1,2,3\n"
     ]
    },
    {
     "name": "stdout",
     "output_type": "stream",
     "text": [
      "Tuple is= (5, 6, 7, 8, 9, 0, 1, 2, 3)\n",
      "3rd element is= 7 3rd element from last is 1\n"
     ]
    }
   ],
   "source": [
    "#3rd element and 3rd element from last\n",
    "a=input((\"Enter the numbers:\"))\n",
    "numbers=tuple(map(int,a.split(\",\")))\n",
    "print(\"Tuple is=\",numbers)\n",
    "b=numbers[2]\n",
    "d=numbers[-3]\n",
    "print(\"3rd element is=\",b,\"3rd element from last is\",d)\n"
   ]
  },
  {
   "cell_type": "code",
   "execution_count": 6,
   "id": "b604a7ab-12f7-4308-a7ed-7e071ad504f0",
   "metadata": {},
   "outputs": [
    {
     "name": "stdin",
     "output_type": "stream",
     "text": [
      "Enter numbers: 7,8,9,0\n"
     ]
    },
    {
     "name": "stdout",
     "output_type": "stream",
     "text": [
      "Tuple is= (7, 8, 9, 0)\n",
      "Average value of tuple is: 6.0\n"
     ]
    }
   ],
   "source": [
    "#accepts a seq. of comma separated no.s from user & generate a tuple\n",
    "a=input(\"Enter numbers:\")\n",
    "numbers=tuple(map(int,a.split(\",\")))\n",
    "print(\"Tuple is=\",numbers)\n",
    "b=sum(numbers)\n",
    "d=len(numbers)\n",
    "print(\"Average value of tuple is:\",b/d)"
   ]
  },
  {
   "cell_type": "code",
   "execution_count": null,
   "id": "c1a2c982-c636-44d2-afe1-bd828fa1aaed",
   "metadata": {},
   "outputs": [],
   "source": []
  }
 ],
 "metadata": {
  "kernelspec": {
   "display_name": "Python 3 (ipykernel)",
   "language": "python",
   "name": "python3"
  },
  "language_info": {
   "codemirror_mode": {
    "name": "ipython",
    "version": 3
   },
   "file_extension": ".py",
   "mimetype": "text/x-python",
   "name": "python",
   "nbconvert_exporter": "python",
   "pygments_lexer": "ipython3",
   "version": "3.11.7"
  }
 },
 "nbformat": 4,
 "nbformat_minor": 5
}
