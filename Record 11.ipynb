{
 "cells": [
  {
   "cell_type": "code",
   "execution_count": 28,
   "id": "d67ff0aa-4a77-42d7-a39f-d01b9ad4ef77",
   "metadata": {},
   "outputs": [
    {
     "name": "stdin",
     "output_type": "stream",
     "text": [
      "Enter a line of text: this day is rainy day\n"
     ]
    },
    {
     "name": "stdout",
     "output_type": "stream",
     "text": [
      "Occurence of is : 1\n",
      "Occurence of day : 2\n",
      "Occurence of this : 1\n",
      "Occurence of rainy : 1\n"
     ]
    }
   ],
   "source": [
    "#1 count occurence of word in a line of text\n",
    "line=input(\"Enter a line of text:\").split()\n",
    "t=set(line)\n",
    "for text in t:\n",
    "    count=line.count(text)\n",
    "    print(\"Occurence of\",text,\":\",count)\n",
    "   "
   ]
  },
  {
   "cell_type": "code",
   "execution_count": 7,
   "id": "ec36aece-7422-4178-a1d4-b1b0b41f3a0f",
   "metadata": {},
   "outputs": [
    {
     "name": "stdin",
     "output_type": "stream",
     "text": [
      "Enter integers separated by commas: 3,8,400,35,720\n"
     ]
    },
    {
     "name": "stdout",
     "output_type": "stream",
     "text": [
      "The entered list is: [3, 8, 400, 35, 720]\n",
      "Modified list is: [3, 8, 'over', 35, 'over']\n"
     ]
    }
   ],
   "source": [
    "#2 Print list values greater than 100 as\"over\"\n",
    "num=input(\"Enter integers separated by commas:\")\n",
    "nlist=list(map(int,num.split(\",\")))\n",
    "result=[]\n",
    "for n in nlist:\n",
    "    if n>100:\n",
    "        result.append(\"over\")\n",
    "    else:\n",
    "        result.append(n)\n",
    "print(\"The entered list is:\",nlist)\n",
    "print(\"Modified list is:\",result)"
   ]
  },
  {
   "cell_type": "code",
   "execution_count": 9,
   "id": "42e8b15c-4d1e-43b5-9fdc-fa940299dc5a",
   "metadata": {},
   "outputs": [
    {
     "name": "stdin",
     "output_type": "stream",
     "text": [
      "Enter a list of first names separated by commas:  Ramu,Raju,Appu,Ammu\n"
     ]
    },
    {
     "name": "stdout",
     "output_type": "stream",
     "text": [
      "Total occurrences of 'a': 4\n"
     ]
    }
   ],
   "source": [
    "#3 Count occurrences of 'a' in a list of first names\n",
    "names = input(\"Enter a list of first names separated by commas: \")\n",
    "namelist = names.split(\",\")\n",
    "a_count = 0\n",
    "\n",
    "for name in namelist:\n",
    "    a_count += name.lower().count('a')\n",
    "\n",
    "print(\"Total occurrences of 'a':\", a_count)"
   ]
  },
  {
   "cell_type": "code",
   "execution_count": 13,
   "id": "0472d887-8d1e-4744-a04a-1af2012942c8",
   "metadata": {},
   "outputs": [
    {
     "name": "stdin",
     "output_type": "stream",
     "text": [
      "Enter the first number: 14\n",
      "Enter the second number: 26\n"
     ]
    },
    {
     "name": "stdout",
     "output_type": "stream",
     "text": [
      "GCD of 14 and 26 is: 2\n"
     ]
    }
   ],
   "source": [
    "#4 Gcd of 2 numbers\n",
    "num1=int(input(\"Enter the first number:\"))\n",
    "num2=int(input(\"Enter the second number:\"))\n",
    "min_num = min(num1, num2)\n",
    "gcd = 1\n",
    "\n",
    "for i in range(1, min_num + 1):\n",
    "    if num1 % i == 0 and num2 % i == 0:\n",
    "        gcd = i\n",
    "\n",
    "print(\"GCD of\", num1, \"and\", num2, \"is:\",gcd)\n"
   ]
  },
  {
   "cell_type": "code",
   "execution_count": 2,
   "id": "d5abdeb4-4bfa-409e-87d8-08e4178b18f9",
   "metadata": {},
   "outputs": [
    {
     "name": "stdin",
     "output_type": "stream",
     "text": [
      "Enter list of integers separated by comma: 2,4,65,89,3,43\n"
     ]
    },
    {
     "name": "stdout",
     "output_type": "stream",
     "text": [
      "The enterd list is: [2, 4, 65, 89, 3, 43]\n",
      "Modified list without even numbers: [65, 89, 3, 43]\n"
     ]
    }
   ],
   "source": [
    "#5 remove even no.s from list of integers\n",
    "list1=input(\"Enter list of integers separated by comma:\")\n",
    "nlist=list(map(int,list1.split(\",\")))\n",
    "print(\"The enterd list is:\",nlist)\n",
    "odd_num= []\n",
    "for num in nlist:\n",
    "    if num % 2 != 0:\n",
    "        odd_num.append(num)\n",
    "print(\"Modified list without even numbers:\",odd_num)\n"
   ]
  },
  {
   "cell_type": "code",
   "execution_count": 6,
   "id": "a2df2bb6-4b27-481b-a6de-f99623272f22",
   "metadata": {},
   "outputs": [
    {
     "name": "stdin",
     "output_type": "stream",
     "text": [
      "Enter a number to find factorial:  5\n"
     ]
    },
    {
     "name": "stdout",
     "output_type": "stream",
     "text": [
      "The factorial of 5 is 120\n"
     ]
    }
   ],
   "source": [
    "#6 Factorial of number\n",
    "num = int(input(\"Enter a number to find factorial: \"))\n",
    "factorial = 1\n",
    "for i in range(1, num + 1):\n",
    "        factorial *= i\n",
    "print(\"The factorial of\", num, \"is\", factorial)"
   ]
  },
  {
   "cell_type": "code",
   "execution_count": 11,
   "id": "c7f3e92b-0252-4fc0-9cdb-7ae0a54bd5d0",
   "metadata": {},
   "outputs": [
    {
     "name": "stdin",
     "output_type": "stream",
     "text": [
      "Enter the number of terms for Fibonacci series:  5\n"
     ]
    },
    {
     "name": "stdout",
     "output_type": "stream",
     "text": [
      "Fibonacci series with 5 terms:\n",
      "[0, 1, 1, 2, 3]\n"
     ]
    }
   ],
   "source": [
    "#7 Fibonacci series of N terms\n",
    "num=int(input(\"Enter the number of terms for Fibonacci series: \"))\n",
    "a, b = 0, 1\n",
    "fib_series = []\n",
    "for i in range(num):\n",
    "    fib_series.append(a)\n",
    "    a, b = b, a + b\n",
    "print(\"Fibonacci series with\", num, \"terms:\")\n",
    "print(fib_series)"
   ]
  },
  {
   "cell_type": "code",
   "execution_count": 15,
   "id": "d55185b6-850c-4a78-82e0-e15c0efc99bd",
   "metadata": {},
   "outputs": [
    {
     "name": "stdin",
     "output_type": "stream",
     "text": [
      "Enter numbers separated by comma:  1,2,3,4,5\n"
     ]
    },
    {
     "name": "stdout",
     "output_type": "stream",
     "text": [
      "The entered list is: [1, 2, 3, 4, 5]\n",
      "The sum of the entered numbers is: 15\n"
     ]
    }
   ],
   "source": [
    "#8 sum of all terms in list\n",
    "list1= input(\"Enter numbers separated by comma: \")\n",
    "list2= list(map(int,list1.split(\",\")))\n",
    "print(\"The entered list is:\",list2)\n",
    "total = 0\n",
    "for num in list2:\n",
    "    total+= num\n",
    "print(\"The sum of the entered numbers is:\", total)"
   ]
  },
  {
   "cell_type": "code",
   "execution_count": 6,
   "id": "7aaa690f-eb67-40de-a2d1-055a96f6604f",
   "metadata": {},
   "outputs": [
    {
     "name": "stdin",
     "output_type": "stream",
     "text": [
      "Enter the start of range(1000-9999): 1000\n",
      "Enter the end of range(1000-9999): 8000\n"
     ]
    },
    {
     "name": "stdout",
     "output_type": "stream",
     "text": [
      "Numbers with all even digits and perfect squares: [4624, 6084, 6400]\n"
     ]
    }
   ],
   "source": [
    "#9 Generate list of 4 digit no.s in a range with all their digits even & perfect square\n",
    "import math\n",
    "start=int(input(\"Enter the start of range(1000-9999):\"))\n",
    "end=int(input(\"Enter the end of range(1000-9999):\"))\n",
    "result=[]\n",
    "for num in range(start,end + 1):\n",
    "    if all(int(digit)% 2==0 for digit in str(num)):\n",
    "        if int(math.isqrt(num)) **2==num:\n",
    "            result.append(num)\n",
    "print(\"Numbers with all even digits and perfect squares:\",result)"
   ]
  },
  {
   "cell_type": "code",
   "execution_count": 25,
   "id": "d6c324c1-db1a-40cf-ba8c-e9a111e0bf4c",
   "metadata": {},
   "outputs": [
    {
     "name": "stdin",
     "output_type": "stream",
     "text": [
      "Enter a string: good\n"
     ]
    },
    {
     "name": "stdout",
     "output_type": "stream",
     "text": [
      "Character Frequency: {'g': 1, 'o': 2, 'd': 1}\n"
     ]
    }
   ],
   "source": [
    "#10 Count the number of characters(character frequency) in a string\n",
    "string=input(\"Enter a string:\")\n",
    "char_count={}\n",
    "for ch in string:\n",
    "    char_count[ch]=char_count.get(ch,0)+1\n",
    "print(\"Character Frequency:\",char_count)"
   ]
  },
  {
   "cell_type": "code",
   "execution_count": 36,
   "id": "b8e674a4-456a-41a0-96a0-ac8a8c8975f4",
   "metadata": {},
   "outputs": [
    {
     "name": "stdin",
     "output_type": "stream",
     "text": [
      "Enter N: 4\n"
     ]
    },
    {
     "name": "stdout",
     "output_type": "stream",
     "text": [
      "1 \n",
      "2 4 \n",
      "3 6 9 \n",
      "4 8 12 16 \n"
     ]
    }
   ],
   "source": [
    "#11 Display given pyramid with step no. accepted by user\n",
    "num=int(input(\"Enter N:\"))\n",
    "for i in range(1,num+1):\n",
    "    for j in range(1,i+1):\n",
    "        print(i*j,end=\" \")\n",
    "    print()"
   ]
  },
  {
   "cell_type": "code",
   "execution_count": null,
   "id": "b6df12c9-7e45-4e90-8b00-aca476263022",
   "metadata": {},
   "outputs": [],
   "source": []
  }
 ],
 "metadata": {
  "kernelspec": {
   "display_name": "Python 3 (ipykernel)",
   "language": "python",
   "name": "python3"
  },
  "language_info": {
   "codemirror_mode": {
    "name": "ipython",
    "version": 3
   },
   "file_extension": ".py",
   "mimetype": "text/x-python",
   "name": "python",
   "nbconvert_exporter": "python",
   "pygments_lexer": "ipython3",
   "version": "3.11.7"
  }
 },
 "nbformat": 4,
 "nbformat_minor": 5
}
