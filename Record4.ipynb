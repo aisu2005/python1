{
 "cells": [
  {
   "cell_type": "code",
   "execution_count": 1,
   "id": "28e5a6ae-d523-4516-bc75-c73bf376431b",
   "metadata": {},
   "outputs": [
    {
     "name": "stdin",
     "output_type": "stream",
     "text": [
      "Enter a string: hello\n"
     ]
    },
    {
     "name": "stdout",
     "output_type": "stream",
     "text": [
      "Converted string is oellh\n"
     ]
    }
   ],
   "source": [
    "#Exchange first & last char\n",
    "s=str(input(\"Enter a string:\"))\n",
    "rev=s[-1]+s[1:-1]+s[0]\n",
    "print(\"Converted string is\",rev)"
   ]
  },
  {
   "cell_type": "code",
   "execution_count": 4,
   "id": "98934b0d-fc8d-4daa-bc3a-9753819ab385",
   "metadata": {},
   "outputs": [
    {
     "name": "stdin",
     "output_type": "stream",
     "text": [
      "Enter a string: hello world\n"
     ]
    },
    {
     "name": "stdout",
     "output_type": "stream",
     "text": [
      "First 2 & last 2 chars of this string is: held\n"
     ]
    }
   ],
   "source": [
    "#string of first2 & last2 chars\n",
    "a=str(input(\"Enter a string:\"))\n",
    "r=a[0]+a[1]+a[-2]+a[-1]\n",
    "print(\"First 2 & last 2 chars of this string is:\",r)"
   ]
  },
  {
   "cell_type": "code",
   "execution_count": 3,
   "id": "69902a74-989e-463c-913f-1ec5384a6956",
   "metadata": {},
   "outputs": [
    {
     "name": "stdin",
     "output_type": "stream",
     "text": [
      "Enter the first string: good\n",
      "Enter the second string: evening\n"
     ]
    },
    {
     "name": "stdout",
     "output_type": "stream",
     "text": [
      "The output is: evod goening\n"
     ]
    }
   ],
   "source": [
    "#single string from 2 given & swap\n",
    "s1=str(input(\"Enter the first string:\"))\n",
    "s2=str(input(\"Enter the second string:\"))\n",
    "news1=s2[:2]+s1[2:]\n",
    "news2=s1[:2]+s2[2:]\n",
    "result=news1+\" \"+news2\n",
    "print(\"The output is:\",result)"
   ]
  },
  {
   "cell_type": "code",
   "execution_count": 7,
   "id": "5baedc7e-7e41-4040-a93a-932944c30a94",
   "metadata": {},
   "outputs": [
    {
     "name": "stdin",
     "output_type": "stream",
     "text": [
      "Enter a string: onion\n"
     ]
    },
    {
     "name": "stdout",
     "output_type": "stream",
     "text": [
      "Converted string is: oni$n\n"
     ]
    }
   ],
   "source": [
    "#first char changed to $ in a string except first char\n",
    "s=str(input(\"Enter a string:\"))\n",
    "n=s[0]\n",
    "r=n+s[1:].replace(n,\"$\")\n",
    "print(\"Converted string is:\",r)"
   ]
  },
  {
   "cell_type": "code",
   "execution_count": null,
   "id": "36f71e39-6756-48fa-9c57-8c7058856812",
   "metadata": {},
   "outputs": [],
   "source": []
  }
 ],
 "metadata": {
  "kernelspec": {
   "display_name": "Python 3 (ipykernel)",
   "language": "python",
   "name": "python3"
  },
  "language_info": {
   "codemirror_mode": {
    "name": "ipython",
    "version": 3
   },
   "file_extension": ".py",
   "mimetype": "text/x-python",
   "name": "python",
   "nbconvert_exporter": "python",
   "pygments_lexer": "ipython3",
   "version": "3.11.7"
  }
 },
 "nbformat": 4,
 "nbformat_minor": 5
}
