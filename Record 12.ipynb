{
 "cells": [
  {
   "cell_type": "code",
   "execution_count": 2,
   "id": "c6bb9b82-b8f0-4849-bfdc-2c43ff346469",
   "metadata": {},
   "outputs": [
    {
     "name": "stdin",
     "output_type": "stream",
     "text": [
      "Enter integers separated by comma: -6,56,0,12,-54\n"
     ]
    },
    {
     "name": "stdout",
     "output_type": "stream",
     "text": [
      "The positive numbers are: [56, 12]\n"
     ]
    }
   ],
   "source": [
    "# List comprehensions\n",
    "#a) generate positive list of numbers from given list of integers\n",
    "num=list(map(int,input(\"Enter integers separated by comma:\").split(\",\")))\n",
    "positive=[x for x in num if x>0]\n",
    "print(\"The positive numbers are:\",positive)"
   ]
  },
  {
   "cell_type": "code",
   "execution_count": 6,
   "id": "ae0fabdd-b92d-46ad-8b83-54fda8a535cb",
   "metadata": {},
   "outputs": [
    {
     "name": "stdin",
     "output_type": "stream",
     "text": [
      "Enter the numbers for finding squares separated by comma: 2,3,4\n"
     ]
    },
    {
     "name": "stdout",
     "output_type": "stream",
     "text": [
      "The square N numbers are: [4, 9, 16]\n"
     ]
    }
   ],
   "source": [
    "#b)Square of N numbers\n",
    "num=list(map(int,input(\"Enter the numbers for finding squares separated by comma:\").split(\",\")))\n",
    "square=[x**2 for x in num]\n",
    "print(\"The square N numbers are:\",square)"
   ]
  },
  {
   "cell_type": "code",
   "execution_count": 16,
   "id": "c69b3766-7872-4437-a924-4fc72bd9b4cf",
   "metadata": {},
   "outputs": [
    {
     "name": "stdin",
     "output_type": "stream",
     "text": [
      "Enter a word: Butterfly\n"
     ]
    },
    {
     "name": "stdout",
     "output_type": "stream",
     "text": [
      "The vowels in the given word is: ['u', 'e']\n"
     ]
    }
   ],
   "source": [
    "#c) list of vowels selected from a given word\n",
    "word=list(map(str,input(\"Enter a word:\")))\n",
    "vowel=[c for c in word if c.lower() in 'aeiou']\n",
    "print(\"The vowels in the given word is:\",vowel)"
   ]
  },
  {
   "cell_type": "code",
   "execution_count": 26,
   "id": "3f9da859-3f87-4b21-aad6-630991e071b4",
   "metadata": {},
   "outputs": [
    {
     "name": "stdin",
     "output_type": "stream",
     "text": [
      "Enter a word to find ordinal value: Hai\n"
     ]
    },
    {
     "name": "stdout",
     "output_type": "stream",
     "text": [
      "The Ordinal value is: [72, 97, 105]\n"
     ]
    }
   ],
   "source": [
    "#d) Ordinal value of each element of a word\n",
    "word=list(map(str,input(\"Enter a word to find ordinal value:\")))\n",
    "ordinal=[ord(ch) for ch in word ]\n",
    "print(\"The Ordinal value is:\",ordinal)"
   ]
  },
  {
   "cell_type": "code",
   "execution_count": null,
   "id": "5ed3ffaa-108e-4597-9a01-0eb3d1aa288e",
   "metadata": {},
   "outputs": [],
   "source": []
  }
 ],
 "metadata": {
  "kernelspec": {
   "display_name": "Python 3 (ipykernel)",
   "language": "python",
   "name": "python3"
  },
  "language_info": {
   "codemirror_mode": {
    "name": "ipython",
    "version": 3
   },
   "file_extension": ".py",
   "mimetype": "text/x-python",
   "name": "python",
   "nbconvert_exporter": "python",
   "pygments_lexer": "ipython3",
   "version": "3.11.7"
  }
 },
 "nbformat": 4,
 "nbformat_minor": 5
}
