{
 "cells": [
  {
   "cell_type": "code",
   "execution_count": 1,
   "id": "d1143109-1182-40c3-ba43-d7ee1521d314",
   "metadata": {},
   "outputs": [
    {
     "name": "stdin",
     "output_type": "stream",
     "text": [
      "Enter the side length of the square: 4\n"
     ]
    },
    {
     "name": "stdout",
     "output_type": "stream",
     "text": [
      "Area of square is : 16.0\n"
     ]
    }
   ],
   "source": [
    "#area of a square\n",
    "side=float(input(\"Enter the side length of the square:\"))\n",
    "area=side*side\n",
    "print(\"Area of square is :\",area)\n"
   ]
  },
  {
   "cell_type": "code",
   "execution_count": 24,
   "id": "ae5904f6-4f94-4847-8a87-511d0190e1b5",
   "metadata": {},
   "outputs": [
    {
     "name": "stdin",
     "output_type": "stream",
     "text": [
      "Enter the base of triangle: 3\n",
      "Enter the height of triangle: 4\n"
     ]
    },
    {
     "name": "stdout",
     "output_type": "stream",
     "text": [
      "Area of right angled triangle: 6.0\n"
     ]
    }
   ],
   "source": [
    "#area of right angled triangle\n",
    "b=float(input(\"Enter the base of triangle:\"))\n",
    "h=float(input(\"Enter the height of triangle:\"))\n",
    "area=0.5*b*h\n",
    "print(\"Area of right angled triangle:\",area)\n",
    "\n",
    "\n"
   ]
  },
  {
   "cell_type": "code",
   "execution_count": 26,
   "id": "4d417459-4a8c-4107-8454-4c003917161c",
   "metadata": {},
   "outputs": [
    {
     "name": "stdout",
     "output_type": "stream",
     "text": [
      "Hello,Harry!\n"
     ]
    }
   ],
   "source": [
    "#print hello harry\n",
    "print(\"Hello,Harry!\")"
   ]
  },
  {
   "cell_type": "code",
   "execution_count": 27,
   "id": "2f775d7f-b556-499b-baea-de30c86715bb",
   "metadata": {},
   "outputs": [
    {
     "name": "stdin",
     "output_type": "stream",
     "text": [
      "Enter an integer: 4\n"
     ]
    },
    {
     "name": "stdout",
     "output_type": "stream",
     "text": [
      "previous number= 3\n",
      "Next number= 5\n"
     ]
    }
   ],
   "source": [
    "#print integer,previous & next no.\n",
    "n=int(input(\"Enter an integer:\"))\n",
    "previous_number=n-1\n",
    "next_number=n+1\n",
    "print(\"previous number=\",previous_number)\n",
    "print(\"Next number=\",next_number)"
   ]
  },
  {
   "cell_type": "code",
   "execution_count": 1,
   "id": "9eaf164f-de11-49f7-9606-f2cd7002f483",
   "metadata": {},
   "outputs": [
    {
     "name": "stdin",
     "output_type": "stream",
     "text": [
      "Enter the principle amount: 200\n",
      "Enter the rate of interest(per annum): 5\n",
      "Enter the time(in years): 2\n"
     ]
    },
    {
     "name": "stdout",
     "output_type": "stream",
     "text": [
      "Simple interest= 20.0\n"
     ]
    }
   ],
   "source": [
    "#simple interest\n",
    "p=float(input(\"Enter the principle amount:\"))#float is a function for impoting a value\n",
    "r=float(input(\"Enter the rate of interest(per annum):\"))\n",
    "t=float(input(\"Enter the time(in years):\"))\n",
    "simple_interest=(p*r*t)/100\n",
    "print(\"Simple interest=\",simple_interest)"
   ]
  },
  {
   "cell_type": "code",
   "execution_count": null,
   "id": "852d5047-4230-477d-a685-2644c535f716",
   "metadata": {},
   "outputs": [],
   "source": []
  }
 ],
 "metadata": {
  "kernelspec": {
   "display_name": "Python 3 (ipykernel)",
   "language": "python",
   "name": "python3"
  },
  "language_info": {
   "codemirror_mode": {
    "name": "ipython",
    "version": 3
   },
   "file_extension": ".py",
   "mimetype": "text/x-python",
   "name": "python",
   "nbconvert_exporter": "python",
   "pygments_lexer": "ipython3",
   "version": "3.11.7"
  }
 },
 "nbformat": 4,
 "nbformat_minor": 5
}

