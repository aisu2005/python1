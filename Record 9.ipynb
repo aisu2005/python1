{
 "cells": [
  {
   "cell_type": "code",
   "execution_count": 7,
   "id": "07063271-c5e6-4cc8-ab26-7a27f6688494",
   "metadata": {},
   "outputs": [
    {
     "name": "stdin",
     "output_type": "stream",
     "text": [
      "Enter 5 students name: aiswarya,anjali,nandana,anju,dishna\n",
      "Enter 5 roll numbers: 22,44,66,33,11\n"
     ]
    },
    {
     "name": "stdout",
     "output_type": "stream",
     "text": [
      "Dictionary: {'22': 'aiswarya', '44': 'anjali', '66': 'nandana', '33': 'anju', '11': 'dishna'}\n",
      "ascending order: {'11': 'dishna', '22': 'aiswarya', '33': 'anju', '44': 'anjali', '66': 'nandana'}\n",
      "Descending order; {'66': 'nandana', '44': 'anjali', '33': 'anju', '22': 'aiswarya', '11': 'dishna'}\n"
     ]
    }
   ],
   "source": [
    "# 5 students rollno & name as dictionary in sorted form\n",
    "students=input(\"Enter 5 students name:\").split(\",\")\n",
    "rl=input(\"Enter 5 roll numbers:\").split(\",\")\n",
    "dict1=dict(zip(rl,students))\n",
    "print(\"Dictionary:\",dict1)\n",
    "Ac=dict(sorted(dict1.items()))\n",
    "print(\"ascending order:\",Ac)\n",
    "Dc=dict(sorted(dict1.items(),reverse=1))\n",
    "print(\"Descending order;\",Dc)\n"
   ]
  },
  {
   "cell_type": "code",
   "execution_count": 9,
   "id": "973e64b8-79e5-4045-bdd3-fd7e1821c87a",
   "metadata": {},
   "outputs": [
    {
     "name": "stdin",
     "output_type": "stream",
     "text": [
      "Enter 3 students name: ramu,raju,ammu\n",
      "Enter 3 roll number: 33,44,55\n"
     ]
    },
    {
     "name": "stdout",
     "output_type": "stream",
     "text": [
      "Dictionary: {'ramu': '33', 'raju': '44', 'ammu': '55'}\n"
     ]
    },
    {
     "name": "stdin",
     "output_type": "stream",
     "text": [
      "Enter 2 students name: sumi,renu\n",
      "Enter 2 roll numbers: 21,32\n"
     ]
    },
    {
     "name": "stdout",
     "output_type": "stream",
     "text": [
      "dictionary: {'sumi': '21', 'renu': '32'}\n",
      "Merge 2 dictionaries: {'ramu': '33', 'raju': '44', 'ammu': '55', 'sumi': '21', 'renu': '32'}\n"
     ]
    }
   ],
   "source": [
    "#acept 2 dictionaries merge 2 dictionaries and display it\n",
    "dict1=input(\"Enter 3 students name:\").split(\",\")\n",
    "dict2=input(\"Enter 3 roll number:\").split(\",\")\n",
    "my_dict=dict(zip(dict1,dict2))\n",
    "print(\"Dictionary:\",my_dict)\n",
    "dict3=input(\"Enter 2 students name:\").split(\",\")\n",
    "dict4=input(\"Enter 2 roll numbers:\").split(\",\")\n",
    "my_dict1=dict(zip(dict3,dict4))\n",
    "print(\"dictionary:\",my_dict1)\n",
    "my_dict.update(my_dict1)\n",
    "print(\"Merge 2 dictionaries:\",my_dict)"
   ]
  },
  {
   "cell_type": "code",
   "execution_count": null,
   "id": "3022ddaa-fefc-4500-81e5-53d4d2c90664",
   "metadata": {},
   "outputs": [],
   "source": []
  }
 ],
 "metadata": {
  "kernelspec": {
   "display_name": "Python 3 (ipykernel)",
   "language": "python",
   "name": "python3"
  },
  "language_info": {
   "codemirror_mode": {
    "name": "ipython",
    "version": 3
   },
   "file_extension": ".py",
   "mimetype": "text/x-python",
   "name": "python",
   "nbconvert_exporter": "python",
   "pygments_lexer": "ipython3",
   "version": "3.11.7"
  }
 },
 "nbformat": 4,
 "nbformat_minor": 5
}
