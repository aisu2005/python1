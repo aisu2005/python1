{
 "cells": [
  {
   "cell_type": "code",
   "execution_count": null,
   "id": "1fc73e32-1f13-4dac-a029-6952462195f7",
   "metadata": {},
   "outputs": [],
   "source": [
    "from graphics import *\n",
    "from graphics import *\n",
    "from graphics.graphics3d.cuboides import cbarea,cbperi\n",
    "from graphics.graphics3d.sphear import sparea,spperi\n",
    "while(1):\n",
    "    print(\"\\n1.Rectangle\\n2.Circle\\n3.cuboid\\n4.sphear\\n5.Exit\\n\")\n",
    "    ch=int(input(\"Enter your choice:\"))\n",
    "    if ch==1:\n",
    "        a=int(input(\"Enter the breadth of rectangle\"))\n",
    "        b=int(input(\"Enter the length of rectangle\"))\n",
    "        print(\"the area of rectangle:\",rarea(a,b))\n",
    "        print(\"the perimeter of rectangle:\",rperi(a,b))\n",
    "    elif ch==2:\n",
    "        r=int(input(\"Enter the radius:\"))\n",
    "        print(\"Area of circle\",carea(r))\n",
    "        print(\"cperi of circle\",cperi(r))\n",
    "    elif ch==3:\n",
    "        b=int(input(\"Enter the breadth of cuboid: \"))\n",
    "        l=int(input(\"Enter the length of cuboid:\"))\n",
    "        h=int(input(\"Enter the height of cuboid:\"))\n",
    "        cbarea(l,b,h)\n",
    "        cbperi(l,b,h)\n",
    "    elif ch==4:\n",
    "        r=int(input(\"Enter the radius of sphear:\"))\n",
    "        sparea(r)\n",
    "        spperi(r)\n",
    "    else :\n",
    "        print(\"exitting...\")\n",
    "        break\n",
    "\n",
    "\n"
   ]
  }
 ],
 "metadata": {
  "kernelspec": {
   "display_name": "Python 3 (ipykernel)",
   "language": "python",
   "name": "python3"
  },
  "language_info": {
   "codemirror_mode": {
    "name": "ipython",
    "version": 3
   },
   "file_extension": ".py",
   "mimetype": "text/x-python",
   "name": "python",
   "nbconvert_exporter": "python",
   "pygments_lexer": "ipython3",
   "version": "3.11.7"
  }
 },
 "nbformat": 4,
 "nbformat_minor": 5
}
