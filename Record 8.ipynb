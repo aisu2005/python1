{
 "cells": [
  {
   "cell_type": "code",
   "execution_count": 9,
   "id": "de3d34bc-938f-46c0-acea-40e808fcb243",
   "metadata": {},
   "outputs": [
    {
     "name": "stdin",
     "output_type": "stream",
     "text": [
      "Enter the colors in first set: green,white,grey,pink,yellow,blue\n",
      "Enter the colors in second set: purple,black,blue,grey\n"
     ]
    },
    {
     "name": "stdout",
     "output_type": "stream",
     "text": [
      "Set 1= {'blue', 'green', 'grey', 'yellow', 'pink', 'white'}\n",
      "Set 2= {'black', 'grey', 'purple', 'blue'}\n",
      "Colors in set 1 but not in set 2 is: {'white', 'green', 'yellow', 'pink'}\n"
     ]
    }
   ],
   "source": [
    "#print colors in set 1 but not in color set 2\n",
    "set1=set(input(\"Enter the colors in first set:\").split(\",\"))\n",
    "set2=set(input(\"Enter the colors in second set:\").split(\",\"))\n",
    "print(\"Set 1=\",set1)\n",
    "print(\"Set 2=\",set2)\n",
    "result=set1-set2\n",
    "print(\"Colors in set 1 but not in set 2 is:\",result)"
   ]
  },
  {
   "cell_type": "code",
   "execution_count": 10,
   "id": "46059f35-1432-4fdd-a0f8-da1c2768bb8f",
   "metadata": {},
   "outputs": [
    {
     "name": "stdin",
     "output_type": "stream",
     "text": [
      "Enter the first set of colors: green,yellow,white,orange\n",
      "Enter the second set of colors: red,grey,black\n"
     ]
    },
    {
     "name": "stdout",
     "output_type": "stream",
     "text": [
      "Set 1= {'green', 'yellow', 'white', 'orange'}\n",
      "Set2= {'black', 'red', 'grey'}\n",
      "All colors from set1 and set2: {'red', 'grey', 'yellow', 'white', 'black', 'green', 'orange'}\n"
     ]
    }
   ],
   "source": [
    "#print all colors from both set 1 & set 2\n",
    "set1=set(input(\"Enter the first set of colors:\").split(\",\"))\n",
    "set2=set(input(\"Enter the second set of colors:\").split(\",\"))\n",
    "print(\"Set 1=\",set1)\n",
    "print(\"Set2=\",set2)\n",
    "both=set1.union(set2)\n",
    "print(\"All colors from set1 and set2:\",both)\n"
   ]
  },
  {
   "cell_type": "code",
   "execution_count": null,
   "id": "7341b3ff-650a-4e29-ad9f-b41b638e0b47",
   "metadata": {},
   "outputs": [],
   "source": []
  }
 ],
 "metadata": {
  "kernelspec": {
   "display_name": "Python 3 (ipykernel)",
   "language": "python",
   "name": "python3"
  },
  "language_info": {
   "codemirror_mode": {
    "name": "ipython",
    "version": 3
   },
   "file_extension": ".py",
   "mimetype": "text/x-python",
   "name": "python",
   "nbconvert_exporter": "python",
   "pygments_lexer": "ipython3",
   "version": "3.11.7"
  }
 },
 "nbformat": 4,
 "nbformat_minor": 5
}
