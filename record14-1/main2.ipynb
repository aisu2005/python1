{
 "cells": [
  {
   "cell_type": "code",
   "execution_count": 1,
   "id": "3834200c-8c09-4cd3-bc10-ad09f74b3162",
   "metadata": {},
   "outputs": [
    {
     "name": "stdout",
     "output_type": "stream",
     "text": [
      "1. Rectangle\n",
      "2. Circle\n",
      "3. Exit\n"
     ]
    },
    {
     "name": "stdin",
     "output_type": "stream",
     "text": [
      "Enter your choice:  1\n",
      "Enter length:  6\n",
      "Enter breadth:  4\n"
     ]
    },
    {
     "name": "stdout",
     "output_type": "stream",
     "text": [
      "Area: 24\n",
      "Perimeter: 48\n",
      "1. Rectangle\n",
      "2. Circle\n",
      "3. Exit\n"
     ]
    },
    {
     "name": "stdin",
     "output_type": "stream",
     "text": [
      "Enter your choice:  2\n",
      "Enter radius:  4\n"
     ]
    },
    {
     "name": "stdout",
     "output_type": "stream",
     "text": [
      "area: 50.27\n",
      "perimeter: 25.13\n",
      "1. Rectangle\n",
      "2. Circle\n",
      "3. Exit\n"
     ]
    },
    {
     "name": "stdin",
     "output_type": "stream",
     "text": [
      "Enter your choice:  3\n"
     ]
    },
    {
     "name": "stdout",
     "output_type": "stream",
     "text": [
      "Exiting...\n"
     ]
    }
   ],
   "source": [
    "import rectangle\n",
    "import circle\n",
    "\n",
    "while True:\n",
    "    print(\"1. Rectangle\\n2. Circle\\n3. Exit\")\n",
    "    ch = int(input(\"Enter your choice: \"))\n",
    "\n",
    "    if ch == 1:\n",
    "        l = int(input(\"Enter length: \"))\n",
    "        b = int(input(\"Enter breadth: \"))\n",
    "        print(\"Area:\", rectangle.area(l, b))\n",
    "        print(\"Perimeter:\", rectangle.perimeter(l, b))\n",
    "\n",
    "    elif ch == 2:\n",
    "        r = float(input(\"Enter radius: \"))\n",
    "        print(\"area:\", round(circle.area(r), 2))\n",
    "        print(\"perimeter:\", round(circle.perimeter(r), 2))\n",
    "\n",
    "    elif ch == 3:\n",
    "        print(\"Exiting...\")\n",
    "        break;\n"
   ]
  },
  {
   "cell_type": "code",
   "execution_count": null,
   "id": "23e36d45-70ba-411b-ab67-986c77fe5be1",
   "metadata": {},
   "outputs": [],
   "source": []
  },
  {
   "cell_type": "code",
   "execution_count": null,
   "id": "cb2de306-c5a6-422a-b888-3daffdefbc32",
   "metadata": {},
   "outputs": [],
   "source": []
  }
 ],
 "metadata": {
  "kernelspec": {
   "display_name": "Python 3 (ipykernel)",
   "language": "python",
   "name": "python3"
  },
  "language_info": {
   "codemirror_mode": {
    "name": "ipython",
    "version": 3
   },
   "file_extension": ".py",
   "mimetype": "text/x-python",
   "name": "python",
   "nbconvert_exporter": "python",
   "pygments_lexer": "ipython3",
   "version": "3.11.7"
  }
 },
 "nbformat": 4,
 "nbformat_minor": 5
}
