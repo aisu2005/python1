{
 "cells": [
  {
   "cell_type": "code",
   "execution_count": 2,
   "id": "311c953c-f707-44a7-af7b-8dc721b90f5e",
   "metadata": {},
   "outputs": [
    {
     "name": "stdin",
     "output_type": "stream",
     "text": [
      "Enter length of rectangle1 :  4\n",
      "Enter breadth of rectangle1 :  2\n",
      "Enter length of rectangle2 :  8\n",
      "Enter breadth of rectangle2 :  6\n"
     ]
    },
    {
     "name": "stdout",
     "output_type": "stream",
     "text": [
      "\n",
      "area of rectangle 1 : 8\n",
      "perimeter of rectangle 1 : 12\n",
      "\n",
      "area of rectangle 2 : 48\n",
      "perimeter of rectangle 2 : 28\n",
      "\n",
      "Rectangle 2 is greater\n"
     ]
    }
   ],
   "source": [
    "class rectangle:\n",
    "    def get(self, l, b):\n",
    "        self.length = l\n",
    "        self.breadth = b\n",
    "\n",
    "    def area(self, l, b):\n",
    "        return l * b\n",
    "\n",
    "    def parimeter(self, l, b):\n",
    "        return 2 * (l + b)\n",
    "\n",
    "\n",
    "r1 = rectangle()\n",
    "l1 = int(input(\"Enter length of rectangle1 : \"))\n",
    "b1 = int(input(\"Enter breadth of rectangle1 : \"))\n",
    "\n",
    "r2 = rectangle()\n",
    "l2 = int(input(\"Enter length of rectangle2 : \"))\n",
    "b2 = int(input(\"Enter breadth of rectangle2 : \"))\n",
    "\n",
    "p1 = r1.area(l1, b1)\n",
    "print(\"\\narea of rectangle 1 :\", p1)\n",
    "\n",
    "per1 = r1.parimeter(l1, b1)\n",
    "print(\"perimeter of rectangle 1 :\", per1)\n",
    "\n",
    "p2 = r2.area(l2, b2)\n",
    "print(\"\\narea of rectangle 2 :\", p2)\n",
    "\n",
    "per2 = r2.parimeter(l2, b2)\n",
    "print(\"perimeter of rectangle 2 :\", per2)\n",
    "\n",
    "if p1 > p2:\n",
    "    print(\"\\nRectangle 1 is greater\")\n",
    "elif p1 < p2:\n",
    "    print(\"\\nRectangle 2 is greater\")\n",
    "else:\n",
    "    print(\"\\nRectangles are equal\")"
   ]
  },
  {
   "cell_type": "code",
   "execution_count": null,
   "id": "5f52c596-9eb1-454c-bd8a-e3756ea45415",
   "metadata": {},
   "outputs": [],
   "source": []
  }
 ],
 "metadata": {
  "kernelspec": {
   "display_name": "Python 3 (ipykernel)",
   "language": "python",
   "name": "python3"
  },
  "language_info": {
   "codemirror_mode": {
    "name": "ipython",
    "version": 3
   },
   "file_extension": ".py",
   "mimetype": "text/x-python",
   "name": "python",
   "nbconvert_exporter": "python",
   "pygments_lexer": "ipython3",
   "version": "3.11.7"
  }
 },
 "nbformat": 4,
 "nbformat_minor": 5
}
